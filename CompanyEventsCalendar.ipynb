{
 "cells": [
  {
   "cell_type": "markdown",
   "metadata": {},
   "source": [
    "# Company Events Calendar"
   ]
  },
  {
   "cell_type": "code",
   "execution_count": 1,
   "metadata": {},
   "outputs": [],
   "source": [
    "import ipywidgets as widgets\n",
    "import pandas as pd\n",
    "import datetime as dt\n",
    "import os\n",
    "import eikon as ek\n",
    "# replace this with your Eikon API key\n",
    "EIKON_APP_KEY = os.environ.get('EIKON_APP_KEY')\n",
    "if EIKON_APP_KEY==None:\n",
    "    print('App key is needed to retrieve data from Eikon. Generate your app key and use it in ek.set_app_key call.')\n",
    "else:\n",
    "    ek.set_app_key(EIKON_APP_KEY)"
   ]
  },
  {
   "cell_type": "code",
   "execution_count": 2,
   "metadata": {},
   "outputs": [
    {
     "name": "stdout",
     "output_type": "stream",
     "text": [
      "Select event types\n",
      "Multiple values can be selected with shift and/or ctrl (or command) pressed and mouse clicks or arrow keys.\n",
      "No selection means retrieve all available event types\n"
     ]
    },
    {
     "data": {
      "application/vnd.jupyter.widget-view+json": {
       "model_id": "db981beddfd44c9baa0067cc9be11992",
       "version_major": 2,
       "version_minor": 0
      },
      "text/plain": [
       "SelectMultiple(layout=Layout(width='50%'), options={'Brokerage analyst calls': 'BACALL', 'Brokerage analyst me…"
      ]
     },
     "metadata": {},
     "output_type": "display_data"
    }
   ],
   "source": [
    "event_types_map = {'Brokerage analyst calls':'BACALL',\n",
    "                   'Brokerage analyst meetings':'BAM',\n",
    "                   'Company visits':'CV',\n",
    "                   'Conference presentations':'CONFP',\n",
    "                   'Conferences':'CONF',\n",
    "                   'Corporate analyst meetings':'CAM',\n",
    "                   'Corporate calls and presentations':'CCALL',\n",
    "                   'Earnings calls and presentations':'ECALL',\n",
    "                   'Earnings releases':'RES',\n",
    "                   'Ex Dividends':'EXDIV',\n",
    "                   'General & political events':'GPE',\n",
    "                   'Guidance calls and presentations':'GCALL',\n",
    "                   'IPO filings':'IPOF',\n",
    "                   'IPO lockup expiration':'IPOLE',\n",
    "                   'IPO pricings':'IPOP',\n",
    "                   'IPO withdrawals':'IPOW',\n",
    "                   'Market holidays':'MH',\n",
    "                   'Merger & Acquisition calls and presentations':'MACALL',\n",
    "                   'Other brokerages':'OTHB',\n",
    "                   'Other Corporate events':'OTHC',\n",
    "                   'Sales & Trading statement calls and presentations':'STCALL',\n",
    "                   'Sales & Trading statement releases':'STR',\n",
    "                   'Secondary filings':'SECF',\n",
    "                   'Secondary pricings':'SECP',\n",
    "                   'Secondary withdrawals':'SECW',\n",
    "                   'Shareholder / Annual meetings':'SHM',\n",
    "                   'Stock splits':'SSP',\n",
    "                   'Syndicate roadshows':'SYNR'}\n",
    "event_types_w = widgets.SelectMultiple(options = event_types_map, \n",
    "                                       rows=len(event_types_map),\n",
    "                                       layout = widgets.Layout(width='50%'))\n",
    "print('Select event types')\n",
    "print('Multiple values can be selected with shift and/or ctrl (or command) pressed and mouse clicks or arrow keys.')\n",
    "print('No selection means retrieve all available event types')\n",
    "display(event_types_w)"
   ]
  },
  {
   "cell_type": "code",
   "execution_count": 3,
   "metadata": {},
   "outputs": [
    {
     "name": "stdout",
     "output_type": "stream",
     "text": [
      "Select the date range for company events\n"
     ]
    },
    {
     "data": {
      "application/vnd.jupyter.widget-view+json": {
       "model_id": "3741075540b34babb116d0e3a071b2af",
       "version_major": 2,
       "version_minor": 0
      },
      "text/plain": [
       "SelectionRangeSlider(index=(9, 13), options=(' -10Y ', ' -5Y ', ' -3Y ', ' -1Y ', ' -6M ', ' -3M ', ' -1M ', '…"
      ]
     },
     "metadata": {},
     "output_type": "display_data"
    }
   ],
   "source": [
    "event_types = event_types_w.value\n",
    "if len(event_types) == 0:\n",
    "    event_types_str = 'ALL'\n",
    "else:\n",
    "    event_types_str = event_types[0]\n",
    "    for i in range(1,len(event_types)):\n",
    "        event_types_str = event_types_str + ';' + event_types[i]\n",
    "print('Select the date range for company events')\n",
    "options_range = ['-10Y','-5Y','-3Y','-1Y','-6M','-3M','-1M','-1W','-1D','0D','1D','1W','2W','1M','3M','1Y']\n",
    "date_range_w = widgets.SelectionRangeSlider(options=[' ' + x + ' ' for x in options_range],index=(9,13))\n",
    "display(date_range_w)"
   ]
  },
  {
   "cell_type": "code",
   "execution_count": 4,
   "metadata": {},
   "outputs": [
    {
     "data": {
      "text/html": [
       "<div>\n",
       "<style scoped>\n",
       "    .dataframe tbody tr th:only-of-type {\n",
       "        vertical-align: middle;\n",
       "    }\n",
       "\n",
       "    .dataframe tbody tr th {\n",
       "        vertical-align: top;\n",
       "    }\n",
       "\n",
       "    .dataframe thead th {\n",
       "        text-align: right;\n",
       "    }\n",
       "</style>\n",
       "<table border=\"1\" class=\"dataframe\">\n",
       "  <thead>\n",
       "    <tr style=\"text-align: right;\">\n",
       "      <th></th>\n",
       "      <th>Event Date</th>\n",
       "      <th>Instrument</th>\n",
       "      <th>Company Event Type</th>\n",
       "      <th>Event Title</th>\n",
       "    </tr>\n",
       "  </thead>\n",
       "  <tbody>\n",
       "    <tr>\n",
       "      <th>1</th>\n",
       "      <td>2019-12-20</td>\n",
       "      <td>NKE.N</td>\n",
       "      <td>EarningsReleases</td>\n",
       "      <td>Q2 2020 Nike Inc Earnings Release</td>\n",
       "    </tr>\n",
       "    <tr>\n",
       "      <th>4</th>\n",
       "      <td>2019-12-13</td>\n",
       "      <td>DIS.N</td>\n",
       "      <td>ExDividends</td>\n",
       "      <td>Dividend For DIS.N - 0.8800 USD</td>\n",
       "    </tr>\n",
       "    <tr>\n",
       "      <th>5</th>\n",
       "      <td>2019-12-13</td>\n",
       "      <td>DIS.N</td>\n",
       "      <td>ExDividends</td>\n",
       "      <td>Dividend For DISB34.SA - 3.7074 BRL</td>\n",
       "    </tr>\n",
       "    <tr>\n",
       "      <th>6</th>\n",
       "      <td>2019-12-13</td>\n",
       "      <td>DIS.N</td>\n",
       "      <td>ExDividends</td>\n",
       "      <td>Dividend For DISN.BA - 0.2200 USD</td>\n",
       "    </tr>\n",
       "    <tr>\n",
       "      <th>9</th>\n",
       "      <td>2019-12-13</td>\n",
       "      <td>MRK.N</td>\n",
       "      <td>ExDividends</td>\n",
       "      <td>Dividend For MRK.N - 0.6100 USD</td>\n",
       "    </tr>\n",
       "    <tr>\n",
       "      <th>10</th>\n",
       "      <td>2019-12-13</td>\n",
       "      <td>MRK.N</td>\n",
       "      <td>ExDividends</td>\n",
       "      <td>Dividend For MRCK34.SA - 2.5671 BRL</td>\n",
       "    </tr>\n",
       "    <tr>\n",
       "      <th>11</th>\n",
       "      <td>2019-12-13</td>\n",
       "      <td>MRK.N</td>\n",
       "      <td>ExDividends</td>\n",
       "      <td>Dividend For MRK.BA - 0.1220 USD</td>\n",
       "    </tr>\n",
       "  </tbody>\n",
       "</table>\n",
       "</div>"
      ],
      "text/plain": [
       "   Event Date Instrument Company Event Type  \\\n",
       "1  2019-12-20      NKE.N   EarningsReleases   \n",
       "4  2019-12-13      DIS.N        ExDividends   \n",
       "5  2019-12-13      DIS.N        ExDividends   \n",
       "6  2019-12-13      DIS.N        ExDividends   \n",
       "9  2019-12-13      MRK.N        ExDividends   \n",
       "10 2019-12-13      MRK.N        ExDividends   \n",
       "11 2019-12-13      MRK.N        ExDividends   \n",
       "\n",
       "                            Event Title  \n",
       "1     Q2 2020 Nike Inc Earnings Release  \n",
       "4       Dividend For DIS.N - 0.8800 USD  \n",
       "5   Dividend For DISB34.SA - 3.7074 BRL  \n",
       "6     Dividend For DISN.BA - 0.2200 USD  \n",
       "9       Dividend For MRK.N - 0.6100 USD  \n",
       "10  Dividend For MRCK34.SA - 2.5671 BRL  \n",
       "11     Dividend For MRK.BA - 0.1220 USD  "
      ]
     },
     "execution_count": 4,
     "metadata": {},
     "output_type": "execute_result"
    }
   ],
   "source": [
    "start_date = options_range[date_range_w.index[0]]\n",
    "end_date = options_range[date_range_w.index[1]]\n",
    "instr, err = ek.get_data('0#.DJI','TR.IndexConstituentRIC')\n",
    "instr = instr['Constituent RIC'].tolist() \n",
    "# Remove duplicates, None and empty strings from the list\n",
    "instr = list(dict.fromkeys(instr))\n",
    "instr = list(filter(None, instr))\n",
    "instr = list(filter(str.strip, instr))\n",
    "\n",
    "events_df, err = ek.get_data(instr,['TR.EventStartDate','TR.EventType','TR.EventTitle'],\n",
    "                            {'SDate':start_date, 'EDate':end_date, 'EventType':event_types_str})\n",
    "events_df.rename(columns = {'Event Start Date':'Event Date'}, inplace = True)\n",
    "events_df = events_df[['Event Date','Instrument','Company Event Type','Event Title']]\n",
    "events_df['Event Date'] = pd.to_datetime(events_df['Event Date'])\n",
    "events_df.dropna(subset = ['Event Date'], inplace=True)\n",
    "events_df"
   ]
  },
  {
   "cell_type": "code",
   "execution_count": null,
   "metadata": {},
   "outputs": [],
   "source": []
  }
 ],
 "metadata": {
  "kernelspec": {
   "display_name": "Python 3",
   "language": "python",
   "name": "python3"
  },
  "language_info": {
   "codemirror_mode": {
    "name": "ipython",
    "version": 3
   },
   "file_extension": ".py",
   "mimetype": "text/x-python",
   "name": "python",
   "nbconvert_exporter": "python",
   "pygments_lexer": "ipython3",
   "version": "3.7.3"
  }
 },
 "nbformat": 4,
 "nbformat_minor": 2
}
